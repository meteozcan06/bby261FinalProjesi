{
  "nbformat": 4,
  "nbformat_minor": 0,
  "metadata": {
    "colab": {
      "name": "bby261FinalProjesi.ipynb",
      "provenance": [],
      "authorship_tag": "ABX9TyNLsO2G1IhhLj2yk7FuwPei",
      "include_colab_link": true
    },
    "kernelspec": {
      "name": "python3",
      "display_name": "Python 3"
    }
  },
  "cells": [
    {
      "cell_type": "markdown",
      "metadata": {
        "id": "view-in-github",
        "colab_type": "text"
      },
      "source": [
        "<a href=\"https://colab.research.google.com/github/meteozcan06/bby261FinalProjesi/blob/master/bby261FinalProjesi.ipynb\" target=\"_parent\"><img src=\"https://colab.research.google.com/assets/colab-badge.svg\" alt=\"Open In Colab\"/></a>"
      ]
    },
    {
      "cell_type": "code",
      "metadata": {
        "id": "4r8gP9QvdRHO",
        "colab_type": "code",
        "colab": {}
      },
      "source": [
        "#keras kodlarının çalışabilmesi için kerası import ediyoruz.\n",
        "import keras"
      ],
      "execution_count": 0,
      "outputs": []
    },
    {
      "cell_type": "code",
      "metadata": {
        "id": "sSNnbFOadUOF",
        "colab_type": "code",
        "colab": {}
      },
      "source": [
        "#Rakamları çekeceğimiz mnist kodlarını çağırmak.\n",
        "from keras.datasets import mnist\n",
        "from keras.preprocessing import image\n",
        "#ilk olarak mnist rakamların olduğu data seti yüklüyoruz.\n",
        "(ogRenmeResim,ogRenmeEtiket), (testResim, testEtiket) = mnist.load_data()"
      ],
      "execution_count": 0,
      "outputs": []
    },
    {
      "cell_type": "code",
      "metadata": {
        "id": "e8OjcRPcdUay",
        "colab_type": "code",
        "outputId": "0e734b8f-112a-429c-d5af-16f5933275a1",
        "colab": {
          "base_uri": "https://localhost:8080/",
          "height": 34
        }
      },
      "source": [
        "type(ogRenmeResim) #Numeric Pyhton"
      ],
      "execution_count": 55,
      "outputs": [
        {
          "output_type": "execute_result",
          "data": {
            "text/plain": [
              "numpy.ndarray"
            ]
          },
          "metadata": {
            "tags": []
          },
          "execution_count": 55
        }
      ]
    },
    {
      "cell_type": "code",
      "metadata": {
        "id": "6kJX5s5idUW5",
        "colab_type": "code",
        "outputId": "d55b6502-5534-43c1-ffb5-94e892d23a61",
        "colab": {
          "base_uri": "https://localhost:8080/",
          "height": 34
        }
      },
      "source": [
        "#Numpy import ettikten sonra datasetimizin boyutunu ölçüyoruz.\n",
        "import numpy as np\n",
        "\n",
        "#60000 28x28 eğitim veri seti olduğu gözükmektedir\n",
        "np.shape(ogRenmeResim)\n"
      ],
      "execution_count": 56,
      "outputs": [
        {
          "output_type": "execute_result",
          "data": {
            "text/plain": [
              "(60000, 28, 28)"
            ]
          },
          "metadata": {
            "tags": []
          },
          "execution_count": 56
        }
      ]
    },
    {
      "cell_type": "code",
      "metadata": {
        "id": "fFlwyjdAdUUz",
        "colab_type": "code",
        "outputId": "9f16487f-b3ac-463e-a5ae-7eb7ebbdaba7",
        "colab": {
          "base_uri": "https://localhost:8080/",
          "height": 34
        }
      },
      "source": [
        "#10000 28x28 test veri seti olduğu gözükmektedir\n",
        "np.shape(testResim) #shape kodu kaç satır kaç sütun gösteriyor."
      ],
      "execution_count": 57,
      "outputs": [
        {
          "output_type": "execute_result",
          "data": {
            "text/plain": [
              "(10000, 28, 28)"
            ]
          },
          "metadata": {
            "tags": []
          },
          "execution_count": 57
        }
      ]
    },
    {
      "cell_type": "code",
      "metadata": {
        "id": "OoEhxVGEdUSo",
        "colab_type": "code",
        "outputId": "0a7f3933-c8ca-4d57-b99b-613ab6eca0a9",
        "colab": {
          "base_uri": "https://localhost:8080/",
          "height": 34
        }
      },
      "source": [
        "ogRenmeEtiket #array dizi kodu sayıların listesi"
      ],
      "execution_count": 58,
      "outputs": [
        {
          "output_type": "execute_result",
          "data": {
            "text/plain": [
              "array([5, 0, 4, ..., 5, 6, 8], dtype=uint8)"
            ]
          },
          "metadata": {
            "tags": []
          },
          "execution_count": 58
        }
      ]
    },
    {
      "cell_type": "code",
      "metadata": {
        "id": "WPJksPdkdnKe",
        "colab_type": "code",
        "outputId": "489f0b4f-e350-42a1-f53b-63af8f9138a9",
        "colab": {
          "base_uri": "https://localhost:8080/",
          "height": 761
        }
      },
      "source": [
        "import matplotlib.pyplot as plt #grafik kütüphanesini cagırıyoruz as le kısaltıyoruz.\n",
        "\n",
        "#Birinci öğreteceğimiz resim 1 rakamı\n",
        "ilk_resim=ogRenmeResim[3]\n",
        "plt.imshow(ilk_resim)\n",
        "plt.grid(True)\n",
        "plt.show(1)\n",
        "\n",
        "\n",
        "#İkinci öğreteceğimiz resim 9 rakamı\n",
        "ikinci_resim=ogRenmeResim[4]\n",
        "plt.imshow(ikinci_resim)\n",
        "plt.grid(True)\n",
        "plt.show(2)\n",
        "\n",
        "#Üçüncü öğreteceğimiz resim 5 rakamı\n",
        "ilk_resim=ogRenmeResim[0]\n",
        "plt.imshow(ilk_resim)\n",
        "plt.grid(True)\n",
        "plt.show(1)\n"
      ],
      "execution_count": 67,
      "outputs": [
        {
          "output_type": "display_data",
          "data": {
            "image/png": "[encoded data removed]",
            "text/plain": [
              "<Figure size 432x288 with 1 Axes>"
            ]
          },
          "metadata": {
            "tags": []
          }
        },
        {
          "output_type": "display_data",
          "data": {
            "image/png": "[encoded data removed]",
            "text/plain": [
              "<Figure size 432x288 with 1 Axes>"
            ]
          },
          "metadata": {
            "tags": []
          }
        },
        {
          "output_type": "display_data",
          "data": {
            "image/png": "[encoded data removed]",
            "text/plain": [
              "<Figure size 432x288 with 1 Axes>"
            ]
          },
          "metadata": {
            "tags": []
          }
        }
      ]
    },
    {
      "cell_type": "code",
      "metadata": {
        "id": "wdmdnHh4drEo",
        "colab_type": "code",
        "colab": {}
      },
      "source": [
        "#Verisetini kurduktan sonra öğrenme kodlarını yazıyoruz.\n",
        "from keras import models \n",
        "from keras import layers\n",
        "\n",
        "#Önce bir öğrenme modeli oluşturuyoruz.\n",
        "ogRenmeModeli = models.Sequential()\n",
        "\n",
        "#İlk olarak katmanımızı oluşturalım ve 128 nöron oluşturuyoruz.\n",
        "#Aktivasyonu relu olarak ve girişi 28*28 resim boyutu olarak belirtelim. \n",
        "#Her resim 28*28 pixel olduğu için girişi bu şekilde belirtiyoruz.\n",
        "ogRenmeModeli.add(layers.Dense(128, activation='relu', input_shape=(28 * 28,)))\n",
        "\n",
        "#Output olarak ise 0 dan 9 a kadar sayı olduğu için outputumuzu 10  olarak belirliyoruz.\n",
        "ogRenmeModeli.add(layers.Dense(10, activation='softmax'))"
      ],
      "execution_count": 0,
      "outputs": []
    },
    {
      "cell_type": "code",
      "metadata": {
        "id": "JcqBvx4hdumw",
        "colab_type": "code",
        "colab": {}
      },
      "source": [
        "#Şimdi öğrenme modelimizin optimizer , loss fonksiyonlarını yazıyoruz.\n",
        "#loss fonksiyonunu birden fazla seçenek olduğu için categorical olarak yazıyoruz.\n",
        "#metrics değerini ise fit ettiğimizde göstermesi için giriyoruz\n",
        "ogRenmeModeli.compile(optimizer='rmsprop',\n",
        "                loss='categorical_crossentropy',\n",
        "                metrics=['accuracy'])"
      ],
      "execution_count": 0,
      "outputs": []
    },
    {
      "cell_type": "code",
      "metadata": {
        "id": "RSn4Zdj8dxlh",
        "colab_type": "code",
        "colab": {}
      },
      "source": [
        "\n",
        "#Burada eğitim verimizin girdi sayısını ve boyutunu belirtiyoruz ve 255 bölüyoruz.\n",
        "ogRenmeResim = ogRenmeResim.reshape((60000, 28 * 28))\n",
        "ogRenmeResim = ogRenmeResim.astype('float32') / 255\n",
        "\n",
        "testResim = testResim.reshape((10000, 28 * 28))\n",
        "testResim = testResim.astype('float32') / 255"
      ],
      "execution_count": 0,
      "outputs": []
    },
    {
      "cell_type": "code",
      "metadata": {
        "id": "Sy9bOz5Zd2Cv",
        "colab_type": "code",
        "colab": {}
      },
      "source": [
        "from keras.utils import to_categorical #Asağıdaki kodların çalışması için bu kodu import etmeliyiz.\n",
        "ogRenmeEtiket = to_categorical(ogRenmeEtiket)\n",
        "testEtiket = to_categorical(testEtiket)"
      ],
      "execution_count": 0,
      "outputs": []
    },
    {
      "cell_type": "code",
      "metadata": {
        "id": "2iSs0k_Sd491",
        "colab_type": "code",
        "outputId": "06676e74-8fce-4ca4-f52f-2f6f8181cd22",
        "colab": {
          "base_uri": "https://localhost:8080/",
          "height": 187
        }
      },
      "source": [
        "#Modeli oluşturduktan sonra çalıştırmak için.\n",
        "#Epochu ne kadar çok yazarsak o kadar daha iyi tahmin yapabilir.\n",
        "sonuc=ogRenmeModeli.fit(ogRenmeResim, ogRenmeEtiket, epochs=5, batch_size=128)"
      ],
      "execution_count": 72,
      "outputs": [
        {
          "output_type": "stream",
          "text": [
            "Epoch 1/5\n",
            "60000/60000 [==============================] - 2s 32us/step - loss: 0.3437 - acc: 0.9039\n",
            "Epoch 2/5\n",
            "60000/60000 [==============================] - 2s 30us/step - loss: 0.1640 - acc: 0.9528\n",
            "Epoch 3/5\n",
            "60000/60000 [==============================] - 2s 30us/step - loss: 0.1191 - acc: 0.9655\n",
            "Epoch 4/5\n",
            "60000/60000 [==============================] - 2s 32us/step - loss: 0.0945 - acc: 0.9721\n",
            "Epoch 5/5\n",
            "60000/60000 [==============================] - 2s 31us/step - loss: 0.0776 - acc: 0.9766\n"
          ],
          "name": "stdout"
        }
      ]
    },
    {
      "cell_type": "code",
      "metadata": {
        "id": "ePEj3Zi1d8Xn",
        "colab_type": "code",
        "outputId": "95aee539-7303-45af-a2dd-083b5fdf1087",
        "colab": {
          "base_uri": "https://localhost:8080/",
          "height": 34
        }
      },
      "source": [
        "#Eğitilen ağı test etme\n",
        "test_loss, test_acc = ogRenmeModeli.evaluate(testResim, testEtiket)\n"
      ],
      "execution_count": 73,
      "outputs": [
        {
          "output_type": "stream",
          "text": [
            "10000/10000 [==============================] - 0s 25us/step\n"
          ],
          "name": "stdout"
        }
      ]
    },
    {
      "cell_type": "code",
      "metadata": {
        "id": "ElKytLF-eApL",
        "colab_type": "code",
        "outputId": "48235bdf-f8bc-44dd-817b-d0b92ae8cc5c",
        "colab": {
          "base_uri": "https://localhost:8080/",
          "height": 51
        }
      },
      "source": [
        "#Test sonucu değerleri karşılaştırıyoruz.\n",
        "print('test_acc:', test_acc)\n",
        "print('test_loss:',test_loss)"
      ],
      "execution_count": 74,
      "outputs": [
        {
          "output_type": "stream",
          "text": [
            "test_acc: 0.9711\n",
            "test_loss: 0.09268600657507778\n"
          ],
          "name": "stdout"
        }
      ]
    },
    {
      "cell_type": "code",
      "metadata": {
        "id": "piWWcJDfeAkb",
        "colab_type": "code",
        "outputId": "a79a76bd-537a-47fc-ad27-429a5202f6d2",
        "colab": {
          "base_uri": "https://localhost:8080/",
          "height": 295
        }
      },
      "source": [
        "#Yüzde doksan sekize kadar nasıl bir öğrenme ivmesi yakaladığımızı grafikte gösteriyoruz.\n",
        "plt.figure(1)\n",
        "plt.plot(sonuc.history['acc'])\n",
        "plt.title(' accuracy')\n",
        "plt.ylabel('accuracy')\n",
        "plt.xlabel('epoch')\n",
        "plt.show()"
      ],
      "execution_count": 75,
      "outputs": [
        {
          "output_type": "display_data",
          "data": {
            "image/png": "[encoded data removed]",
            "text/plain": [
              "<Figure size 432x288 with 1 Axes>"
            ]
          },
          "metadata": {
            "tags": []
          }
        }
      ]
    },
    {
      "cell_type": "code",
      "metadata": {
        "id": "UsBnuceTJ-qW",
        "colab_type": "code",
        "outputId": "6748e9fe-4e2e-448d-f07b-50f7faad1e40",
        "colab": {
          "base_uri": "https://localhost:8080/",
          "height": 430
        }
      },
      "source": [
        "#Eğer dışardan bir veriyi verip sonucunu öğrenmek istersek bu kodu yazıyoruz ama çalıştıramadım.\n",
        "\"\"\"\n",
        "img = image.load_img(path=\"rakamlar.png\",grayscale=True,target_size=(28,28,1))\n",
        "img = image.img_to_array(img)\n",
        "test_img = img.reshape((1,784))\n",
        "img_class = ogRenmeModeli_reg.predict_classes(test_img)\n",
        "prediction = img_class[0]\n",
        "\n",
        "print(\"Class: \",prediction)\n",
        "img = img.reshape((28,28))\n",
        "plt.imshow(img)\n",
        "plt.title(prediction)\n",
        "plt.show()\n",
        "\"\"\""
      ],
      "execution_count": 0,
      "outputs": [
        {
          "output_type": "stream",
          "text": [
            "/usr/local/lib/python3.6/dist-packages/keras_preprocessing/image/utils.py:104: UserWarning: grayscale is deprecated. Please use color_mode = \"grayscale\"\n",
            "  warnings.warn('grayscale is deprecated. Please use '\n"
          ],
          "name": "stderr"
        },
        {
          "output_type": "error",
          "ename": "FileNotFoundError",
          "evalue": "ignored",
          "traceback": [
            "\u001b[0;31m---------------------------------------------------------------------------\u001b[0m",
            "\u001b[0;31mFileNotFoundError\u001b[0m                         Traceback (most recent call last)",
            "\u001b[0;32m<ipython-input-33-34d7ca6ac7b0>\u001b[0m in \u001b[0;36m<module>\u001b[0;34m()\u001b[0m\n\u001b[0;32m----> 1\u001b[0;31m \u001b[0mimg\u001b[0m \u001b[0;34m=\u001b[0m \u001b[0mimage\u001b[0m\u001b[0;34m.\u001b[0m\u001b[0mload_img\u001b[0m\u001b[0;34m(\u001b[0m\u001b[0mpath\u001b[0m\u001b[0;34m=\u001b[0m\u001b[0;34m\"rakamlar.png\"\u001b[0m\u001b[0;34m,\u001b[0m\u001b[0mgrayscale\u001b[0m\u001b[0;34m=\u001b[0m\u001b[0;32mTrue\u001b[0m\u001b[0;34m,\u001b[0m\u001b[0mtarget_size\u001b[0m\u001b[0;34m=\u001b[0m\u001b[0;34m(\u001b[0m\u001b[0;36m28\u001b[0m\u001b[0;34m,\u001b[0m\u001b[0;36m28\u001b[0m\u001b[0;34m,\u001b[0m\u001b[0;36m1\u001b[0m\u001b[0;34m)\u001b[0m\u001b[0;34m)\u001b[0m\u001b[0;34m\u001b[0m\u001b[0;34m\u001b[0m\u001b[0m\n\u001b[0m\u001b[1;32m      2\u001b[0m \u001b[0mimg\u001b[0m \u001b[0;34m=\u001b[0m \u001b[0mimage\u001b[0m\u001b[0;34m.\u001b[0m\u001b[0mimg_to_array\u001b[0m\u001b[0;34m(\u001b[0m\u001b[0mimg\u001b[0m\u001b[0;34m)\u001b[0m\u001b[0;34m\u001b[0m\u001b[0;34m\u001b[0m\u001b[0m\n\u001b[1;32m      3\u001b[0m \u001b[0mtest_img\u001b[0m \u001b[0;34m=\u001b[0m \u001b[0mimg\u001b[0m\u001b[0;34m.\u001b[0m\u001b[0mreshape\u001b[0m\u001b[0;34m(\u001b[0m\u001b[0;34m(\u001b[0m\u001b[0;36m1\u001b[0m\u001b[0;34m,\u001b[0m\u001b[0;36m784\u001b[0m\u001b[0;34m)\u001b[0m\u001b[0;34m)\u001b[0m\u001b[0;34m\u001b[0m\u001b[0;34m\u001b[0m\u001b[0m\n\u001b[1;32m      4\u001b[0m \u001b[0mimg_class\u001b[0m \u001b[0;34m=\u001b[0m \u001b[0mmodel_reg\u001b[0m\u001b[0;34m.\u001b[0m\u001b[0mpredict_classes\u001b[0m\u001b[0;34m(\u001b[0m\u001b[0mtest_img\u001b[0m\u001b[0;34m)\u001b[0m\u001b[0;34m\u001b[0m\u001b[0;34m\u001b[0m\u001b[0m\n\u001b[1;32m      5\u001b[0m \u001b[0mprediction\u001b[0m \u001b[0;34m=\u001b[0m \u001b[0mimg_class\u001b[0m\u001b[0;34m[\u001b[0m\u001b[0;36m0\u001b[0m\u001b[0;34m]\u001b[0m\u001b[0;34m\u001b[0m\u001b[0;34m\u001b[0m\u001b[0m\n",
            "\u001b[0;32m/usr/local/lib/python3.6/dist-packages/keras_preprocessing/image/utils.py\u001b[0m in \u001b[0;36mload_img\u001b[0;34m(path, grayscale, color_mode, target_size, interpolation)\u001b[0m\n\u001b[1;32m    108\u001b[0m         raise ImportError('Could not import PIL.Image. '\n\u001b[1;32m    109\u001b[0m                           'The use of `load_img` requires PIL.')\n\u001b[0;32m--> 110\u001b[0;31m     \u001b[0mimg\u001b[0m \u001b[0;34m=\u001b[0m \u001b[0mpil_image\u001b[0m\u001b[0;34m.\u001b[0m\u001b[0mopen\u001b[0m\u001b[0;34m(\u001b[0m\u001b[0mpath\u001b[0m\u001b[0;34m)\u001b[0m\u001b[0;34m\u001b[0m\u001b[0;34m\u001b[0m\u001b[0m\n\u001b[0m\u001b[1;32m    111\u001b[0m     \u001b[0;32mif\u001b[0m \u001b[0mcolor_mode\u001b[0m \u001b[0;34m==\u001b[0m \u001b[0;34m'grayscale'\u001b[0m\u001b[0;34m:\u001b[0m\u001b[0;34m\u001b[0m\u001b[0;34m\u001b[0m\u001b[0m\n\u001b[1;32m    112\u001b[0m         \u001b[0;32mif\u001b[0m \u001b[0mimg\u001b[0m\u001b[0;34m.\u001b[0m\u001b[0mmode\u001b[0m \u001b[0;34m!=\u001b[0m \u001b[0;34m'L'\u001b[0m\u001b[0;34m:\u001b[0m\u001b[0;34m\u001b[0m\u001b[0;34m\u001b[0m\u001b[0m\n",
            "\u001b[0;32m/usr/local/lib/python3.6/dist-packages/PIL/Image.py\u001b[0m in \u001b[0;36mopen\u001b[0;34m(fp, mode)\u001b[0m\n\u001b[1;32m   2764\u001b[0m \u001b[0;34m\u001b[0m\u001b[0m\n\u001b[1;32m   2765\u001b[0m     \u001b[0;32mif\u001b[0m \u001b[0mfilename\u001b[0m\u001b[0;34m:\u001b[0m\u001b[0;34m\u001b[0m\u001b[0;34m\u001b[0m\u001b[0m\n\u001b[0;32m-> 2766\u001b[0;31m         \u001b[0mfp\u001b[0m \u001b[0;34m=\u001b[0m \u001b[0mbuiltins\u001b[0m\u001b[0;34m.\u001b[0m\u001b[0mopen\u001b[0m\u001b[0;34m(\u001b[0m\u001b[0mfilename\u001b[0m\u001b[0;34m,\u001b[0m \u001b[0;34m\"rb\"\u001b[0m\u001b[0;34m)\u001b[0m\u001b[0;34m\u001b[0m\u001b[0;34m\u001b[0m\u001b[0m\n\u001b[0m\u001b[1;32m   2767\u001b[0m         \u001b[0mexclusive_fp\u001b[0m \u001b[0;34m=\u001b[0m \u001b[0;32mTrue\u001b[0m\u001b[0;34m\u001b[0m\u001b[0;34m\u001b[0m\u001b[0m\n\u001b[1;32m   2768\u001b[0m \u001b[0;34m\u001b[0m\u001b[0m\n",
            "\u001b[0;31mFileNotFoundError\u001b[0m: [Errno 2] No such file or directory: 'rakamlar.png'"
          ]
        }
      ]
    }
  ]
}